{
 "cells": [
  {
   "cell_type": "code",
   "execution_count": null,
   "id": "2127b39e-0e15-4e33-afa3-bdb111e57a39",
   "metadata": {},
   "outputs": [],
   "source": [
    "# player = 'Roger Federer'\n",
    "# url = \"https://raw.githubusercontent.com/ndas1971/Misc/master/federer.csv\"\n",
    "\n",
    "# 1. Read and check data \n",
    "# 2. How many % of matched won by our player? ('winner')\n",
    "# 3. Proportion of double faults wrt total points in each match \n",
    "# This number is an indicator of the player's state of mind, his level of self-confidence, \n",
    "# his willingness to take risks while serving, and other parameters.\n",
    "# columns:\n",
    "# 'player1 double faults' and 'player1 total points total'\n",
    "# Display simple stats of above \n",
    "# 4. Average Win per surface \n",
    "# 5. Display the proportion of double faults as a function of the tournament date, 'start date'\n",
    "# Trend: display average double faults in each year \n"
   ]
  },
  {
   "cell_type": "code",
   "execution_count": 1,
   "id": "9ba21bcc-4dda-4365-8a6a-1a131950ce63",
   "metadata": {},
   "outputs": [],
   "source": [
    "import pandas as pd\n",
    "import matplotlib.pyplot as plt"
   ]
  },
  {
   "cell_type": "code",
   "execution_count": 10,
   "id": "fd1c1313-156a-4735-aa01-b06493e758f2",
   "metadata": {},
   "outputs": [],
   "source": [
    "federer = pd.read_csv(r\"code/data/federer.csv\")\n",
    "pd.set_option('display.max_columns',200)\n",
    "pd.set_option('display.max_rows',90)"
   ]
  },
  {
   "cell_type": "code",
   "execution_count": 27,
   "id": "55c09ead-b7ee-4d17-b700-304b0f32d906",
   "metadata": {},
   "outputs": [
    {
     "data": {
      "text/plain": [
       "Index(['year', 'tournament', 'start date', 'type', 'surface', 'draw',\n",
       "       'atp points', 'atp ranking', 'tournament prize money', 'round',\n",
       "       'opponent', 'ranking', 'score', 'stats link', 'tournament.1',\n",
       "       'tournament round', 'time', 'winner', 'player1 name',\n",
       "       'player1 nationality', 'player1 aces', 'player1 double faults',\n",
       "       'player1 1st serves in', 'player1 1st serves total',\n",
       "       'player1 1st serve points won', 'player1 1st serve points total',\n",
       "       'player1 2nd serve points won', 'player1 2nd serve points total',\n",
       "       'player1 break points won', 'player1 break points total',\n",
       "       'player1 service games played', 'player1 1st serve return points won',\n",
       "       'player1 1st serve return points total',\n",
       "       'player1 2nd serve return points won',\n",
       "       'player1 2nd serve return points total',\n",
       "       'player1 break points converted won',\n",
       "       'player1 break points converted total', 'player1 return games played',\n",
       "       'player1 total service points won',\n",
       "       'player1 total service points total', 'player1 total return points won',\n",
       "       'player1 total return points total', 'player1 total points won',\n",
       "       'player1 total points total', 'player2 name', 'player2 nationality',\n",
       "       'player2 aces', 'player2 double faults', 'player2 1st serves in',\n",
       "       'player2 1st serves total', 'player2 1st serve points won',\n",
       "       'player2 1st serve points total', 'player2 2nd serve points won',\n",
       "       'player2 2nd serve points total', 'player2 break points won',\n",
       "       'player2 break points total', 'player2 service games played',\n",
       "       'player2 1st serve return points won',\n",
       "       'player2 1st serve return points total',\n",
       "       'player2 2nd serve return points won',\n",
       "       'player2 2nd serve return points total',\n",
       "       'player2 break points converted won',\n",
       "       'player2 break points converted total', 'player2 return games played',\n",
       "       'player2 total service points won',\n",
       "       'player2 total service points total', 'player2 total return points won',\n",
       "       'player2 total return points total', 'player2 total points won',\n",
       "       'player2 total points total', 'Double_faults'],\n",
       "      dtype='object')"
      ]
     },
     "execution_count": 27,
     "metadata": {},
     "output_type": "execute_result"
    }
   ],
   "source": [
    "federer.columns"
   ]
  },
  {
   "cell_type": "code",
   "execution_count": 21,
   "id": "3e56a269-712e-4214-9ddf-edb49d00da60",
   "metadata": {},
   "outputs": [
    {
     "name": "stdout",
     "output_type": "stream",
     "text": [
      "Percentage of matches won by Roger Federer: 82.44%\n"
     ]
    },
    {
     "data": {
      "text/plain": [
       "972"
      ]
     },
     "execution_count": 21,
     "metadata": {},
     "output_type": "execute_result"
    }
   ],
   "source": [
    "matches=federer.shape[0]\n",
    "matches_won=federer[federer['winner']=='Roger Federer'].shape[0]\n",
    "win_percentage=(matches_won/matches)*100\n",
    "print(f\"Percentage of matches won by Roger Federer: {win_percentage:.2f}%\")\n",
    "matches_won"
   ]
  },
  {
   "cell_type": "code",
   "execution_count": 22,
   "id": "e061e3cf-32e3-422e-9484-fdb7e5ff64b9",
   "metadata": {},
   "outputs": [
    {
     "name": "stdout",
     "output_type": "stream",
     "text": [
      "0       0.019417\n",
      "1       0.000000\n",
      "2       0.020270\n",
      "3       0.046154\n",
      "4            NaN\n",
      "          ...   \n",
      "1174    0.018116\n",
      "1175    0.000000\n",
      "1176    0.000000\n",
      "1177    0.011561\n",
      "1178         NaN\n",
      "Name: Double_faults, Length: 1179, dtype: float64\n"
     ]
    }
   ],
   "source": [
    "federer['Double_faults']=federer['player1 double faults']/federer['player1 total points total']\n",
    "Double_faults=federer['Double_faults']\n",
    "print(Double_faults)"
   ]
  },
  {
   "cell_type": "code",
   "execution_count": 25,
   "id": "d1a5c444-982a-4c78-9f5f-fef97b88ba55",
   "metadata": {},
   "outputs": [
    {
     "name": "stdout",
     "output_type": "stream",
     "text": [
      "surface\n",
      "Indoor: Carpet     56\n",
      "Indoor: Clay        5\n",
      "Indoor: Hard      189\n",
      "Outdoor: Clay     194\n",
      "Outdoor: Grass    122\n",
      "Outdoor: Hard     406\n",
      "dtype: int64\n"
     ]
    }
   ],
   "source": [
    "Avg_wps=federer[federer['winner']=='Roger Federer'].groupby('surface').size()\n",
    "print(Avg_wps)"
   ]
  },
  {
   "cell_type": "code",
   "execution_count": 28,
   "id": "aa176517-5c6b-4919-a98b-8822105f9a50",
   "metadata": {},
   "outputs": [
    {
     "name": "stdout",
     "output_type": "stream",
     "text": [
      "year\n",
      "1998.0    0.020738\n",
      "1999.0    0.028285\n",
      "2000.0    0.020918\n",
      "2001.0    0.016780\n",
      "2002.0    0.016084\n",
      "2003.0    0.018211\n",
      "2004.0    0.012856\n",
      "2005.0    0.008778\n",
      "2006.0    0.008495\n",
      "2007.0    0.009116\n",
      "2008.0    0.005306\n",
      "2009.0    0.008313\n",
      "2010.0    0.009711\n",
      "2011.0    0.008275\n",
      "2012.0    0.011024\n",
      "Name: Double_faults, dtype: float64\n"
     ]
    }
   ],
   "source": [
    "federer['start date']=pd.to_datetime(federer['start date'],errors='coerce')\n",
    "federer['year']=federer['start date'].dt.year\n",
    "Avg_df_by_year=federer.groupby('year')['Double_faults'].mean()\n",
    "print(Avg_df_by_year)"
   ]
  },
  {
   "cell_type": "code",
   "execution_count": null,
   "id": "10347078-f13c-4ad1-b7ad-14294c85545d",
   "metadata": {},
   "outputs": [],
   "source": []
  }
 ],
 "metadata": {
  "kernelspec": {
   "display_name": "Python 3 (ipykernel)",
   "language": "python",
   "name": "python3"
  },
  "language_info": {
   "codemirror_mode": {
    "name": "ipython",
    "version": 3
   },
   "file_extension": ".py",
   "mimetype": "text/x-python",
   "name": "python",
   "nbconvert_exporter": "python",
   "pygments_lexer": "ipython3",
   "version": "3.12.8"
  }
 },
 "nbformat": 4,
 "nbformat_minor": 5
}
